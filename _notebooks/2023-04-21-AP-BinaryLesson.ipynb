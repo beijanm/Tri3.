{
 "cells": [
  {
   "attachments": {},
   "cell_type": "markdown",
   "metadata": {},
   "source": [
    "# P3-M 4/21 Binary Overview\n",
    "> A series of binary lessons focusssed on math and conversions.\n",
    "- toc: true\n",
    "- badges: false\n",
    "- comments: true\n",
    "- author: Colin Mills, Aiden Huynh, Toby Leeder, Dash Penning, Ekam Kaire, Ishi Singh, Azeem Khan, Nathan Capule\n",
    "- categories: [student]\n",
    "- type: ap\n",
    "- week: 30"
   ]
  },
  {
   "attachments": {},
   "cell_type": "markdown",
   "metadata": {},
   "source": [
    "# Binary Overview\n",
    "\n",
    "Our main focus of the lesson is to teach about Binary.\n",
    "\n",
    "## Subtopics we plan on teaching\n",
    "\n",
    "- Representing variables through binary\n",
    "- The errors of using bits\n",
    "    - Overflow\n",
    "    - Round-off\n",
    "- Binary to decimal conversion\n",
    "    - including mathematical operations with binary values\n",
    "- Decimal to binary conversion\n",
    "\n",
    "## Lesson Plans\n",
    " \n",
    "- We will integrate \"fill in the blanks\" as popcorn hacks during the lecture\n",
    "- We will have code segments for the audience to run, dissect, and edit, similar to Mr. Yeung's lecture on hashmaps\n",
    "\n",
    "## Plans for hacks\n",
    "\n",
    "- Code a program that conducts mathematical operations on binary numbers (must have addition and subtraction, multiplication and division for 1/1)\n",
    "\n",
    "## Grading binary style! (all or nothing in 3 categories)\n",
    "\n",
    "- 0.2 for popcorn hacks and code cells\n",
    "- 0.7 for binary addition and subtraction (hack)\n",
    "- 0.1 for binary multiplication and division (extra credit hack)"
   ]
  }
 ],
 "metadata": {
  "language_info": {
   "name": "python"
  },
  "orig_nbformat": 4
 },
 "nbformat": 4,
 "nbformat_minor": 2
}
