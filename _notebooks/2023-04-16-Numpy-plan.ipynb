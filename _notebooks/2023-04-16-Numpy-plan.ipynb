{
 "cells": [
  {
   "attachments": {},
   "cell_type": "markdown",
   "metadata": {},
   "source": [
    "# Numpy Lesson Plan and Hacks\n",
    "> The outline for our lesson plan and hacks"
   ]
  },
  {
   "attachments": {},
   "cell_type": "markdown",
   "metadata": {},
   "source": [
    "## Lesson Plan\n",
    "\n",
    "- The lesson will cover various topics about Numpy and how to use it to perform mathematical functions\n",
    "    - How to manipulate pixels on images\n",
    "    - How to manipulate arrays\n",
    "- There will be multiple \"popcorn\" hacks within the lesson as well"
   ]
  },
  {
   "attachments": {},
   "cell_type": "markdown",
   "metadata": {},
   "source": [
    "## Hacks\n",
    "- 0.3 for solving the lesson problem sets (popcorn hacks)\n",
    "- 0.6 for solving the hacks\n",
    "- 0.1 for going extra (such as showing unique code segments using numpy)"
   ]
  }
 ],
 "metadata": {
  "kernelspec": {
   "display_name": "base",
   "language": "python",
   "name": "python3"
  },
  "language_info": {
   "name": "python",
   "version": "3.9.12"
  },
  "orig_nbformat": 4
 },
 "nbformat": 4,
 "nbformat_minor": 2
}
