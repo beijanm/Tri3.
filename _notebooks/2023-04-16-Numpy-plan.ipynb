{
 "cells": [
  {
   "attachments": {},
   "cell_type": "markdown",
   "metadata": {},
   "source": [
    "# Numpy Lesson Plan and Hacks\n",
    "> The outline for our lesson plan and hacks\n",
    "- toc: true\n",
    "- categories: []\n",
    "- type: ap\n",
    "- week: 29"
   ]
  },
  {
   "attachments": {},
   "cell_type": "markdown",
   "metadata": {},
   "source": [
    "## Lesson Plan\n",
    "\n",
    "- The lesson will cover various topics about Numpy and how to use it to perform mathematical functions\n",
    "    - How to manipulate pixels on images\n",
    "    - How to manipulate arrays\n",
    "- There will be multiple \"popcorn\" hacks within the lesson as well"
   ]
  },
  {
   "attachments": {},
   "cell_type": "markdown",
   "metadata": {},
   "source": [
    "# 1. Intro to NumPy and the features it consists\n",
    "\n",
    "- Start by explaining what numpy is and why it's useful in data analysis.\n",
    "- Discuss the main features of numpy, such as its ability to handle large, multi-dimensional arrays and its built-in mathematical functions.\n",
    "- Demonstrate how to import numpy in Python:"
   ]
  },
  {
   "attachments": {},
   "cell_type": "markdown",
   "metadata": {},
   "source": [
    "## What is NumPy? ##\n",
    "\n",
    "- Numpy is a **python library** used for working with arrays, matrices, and other mathematical operations\n",
    "- NumPy stands for **Numerical Python**\n"
   ]
  },
  {
   "cell_type": "code",
   "execution_count": 1,
   "metadata": {},
   "outputs": [],
   "source": [
    "# we first need to import NumPy in order to use it.\n",
    "import numpy as np"
   ]
  },
  {
   "attachments": {},
   "cell_type": "markdown",
   "metadata": {},
   "source": [
    "# 2. Using NumPy to create arrays\n",
    "- Explain how to create a numpy array using the np.array() function.\n",
    "- Show how to create a 1D array:"
   ]
  },
  {
   "cell_type": "code",
   "execution_count": 2,
   "metadata": {},
   "outputs": [
    {
     "name": "stdout",
     "output_type": "stream",
     "text": [
      "[1 2 3]\n"
     ]
    }
   ],
   "source": [
    "a = np.array([1, 2, 3])\n",
    "print(a) \n",
    "# this creates a 1D array"
   ]
  },
  {
   "attachments": {},
   "cell_type": "markdown",
   "metadata": {},
   "source": [
    "How could you create a 3D array based on knowing how to make a 1D array?"
   ]
  },
  {
   "cell_type": "code",
   "execution_count": null,
   "metadata": {},
   "outputs": [],
   "source": [
    "# create 3D array here"
   ]
  },
  {
   "cell_type": "code",
   "execution_count": 18,
   "metadata": {},
   "outputs": [
    {
     "name": "stdout",
     "output_type": "stream",
     "text": [
      "[[1 2 3 4 5 6 7 8 9]]\n"
     ]
    }
   ],
   "source": [
    "c = np.array([[1, 2, 3], [4, 5, 6], [7, 8, 9]])\n",
    "print(c.reshape(1, 9)) # organizes it all in a single line of output"
   ]
  },
  {
   "cell_type": "code",
   "execution_count": 15,
   "metadata": {},
   "outputs": [
    {
     "name": "stdout",
     "output_type": "stream",
     "text": [
      "[[4 5]\n",
      " [7 8]]\n"
     ]
    }
   ],
   "source": [
    "print(c[1:, :2])\n",
    "# the 1: means \"start at row 1 and select all the remaining rows\"\n",
    "# the :2 means \"select the first two columns\""
   ]
  },
  {
   "attachments": {},
   "cell_type": "markdown",
   "metadata": {},
   "source": [
    "# 3. Basic array operations\n",
    "- Cover basic array operations, such as addition, subtraction, multiplication, and division"
   ]
  },
  {
   "cell_type": "code",
   "execution_count": 16,
   "metadata": {},
   "outputs": [
    {
     "name": "stdout",
     "output_type": "stream",
     "text": [
      "[5 7 9]\n",
      "[-3 -3 -3]\n",
      "[ 4 10 18]\n",
      "[0.25 0.4  0.5 ]\n"
     ]
    }
   ],
   "source": [
    "a = np.array([1, 2, 3])\n",
    "b = np.array([4, 5, 6])\n",
    "print(a + b) # adds each value based on the column the integer is in\n",
    "print(a - b) # subtracts each value based on the column the integer is in\n",
    "print(a * b) # multiplies each value based on the column the integer is in\n",
    "print(a / b) # divides each value based on the column the integer is in"
   ]
  },
  {
   "attachments": {},
   "cell_type": "markdown",
   "metadata": {},
   "source": [
    "# 4. Data analysis using numpy\n",
    "- Show how numpy can be used for data analysis tasks, such as finding the mean, median, and standard deviation of a dataset"
   ]
  },
  {
   "cell_type": "code",
   "execution_count": 24,
   "metadata": {},
   "outputs": [
    {
     "name": "stdout",
     "output_type": "stream",
     "text": [
      "10.2\n",
      "12.0\n",
      "6.04648658313239\n",
      "2\n",
      "19\n"
     ]
    }
   ],
   "source": [
    "data = np.array([2, 5, 12, 13, 19])\n",
    "print(np.mean(data)) # finds the mean of the dataset\n",
    "print(np.median(data)) # finds the median of the dataset\n",
    "print(np.std(data)) # finds the standard deviation of the dataset\n",
    "print(np.min(data)) # finds the min of the dataset\n",
    "print(np.max(data)) # finds the max of the dataset"
   ]
  },
  {
   "cell_type": "code",
<<<<<<< HEAD
   "execution_count": 77,
=======
   "execution_count": 10,
>>>>>>> refs/remotes/origin/master
   "metadata": {},
   "outputs": [
    {
     "name": "stdout",
     "output_type": "stream",
     "text": [
      "[['Name' ' Position' ' Average' ' HR' ' RBI' ' OPS' ' JerseyNumber']\n",
      " ['Manny Machado' ' Third Base' ' .298' ' 32' ' 102' ' .897' ' 13']\n",
      " ['Fernando Tatis Jr' ' Right Field' ' .281' ' 42' ' 97' ' .975' ' 23']\n",
      " ['Juan Soto' ' Left Field' ' .242' ' 27' ' 62' ' .853' ' 22']\n",
      " ['Xanger Bogaerts' ' Shortstop' ' .307' ' 15' ' 73' ' .833' ' 2']\n",
      " ['Nelson Cruz' ' Designated Hitter' ' .234' ' 10' ' 64' ' .651' ' 32']\n",
      " ['Matt Carpenter' ' Designated Hitter' ' .305' ' 15' ' 37' ' 1.138'\n",
      "  ' 14']\n",
      " ['Jake Cronenworth' ' First Base' ' .239' ' 17' ' 88' ' .722' ' 9']\n",
      " ['Ha-Seong Kim' ' Second Base' ' .251' ' 11' ' 59' ' .708' ' 7']\n",
      " ['Trent Grisham' ' Center Field' ' .184' ' 17' ' 53' ' .626' ' 1']\n",
      " ['Luis Campusano' ' Catcher' ' .250' ' 1' ' 5' ' .593' ' 12']\n",
      " ['Austin Nola' ' Catcher' ' .251' ' 4' ' 40' ' .649' ' 26']\n",
      " ['Jose Azocar' ' Outfield' ' .257' ' 0' ' 10' ' .630' ' 28']]\n"
     ]
    }
   ],
   "source": [
    "padres = np.genfromtxt('files/padres.csv', delimiter=',', dtype=str, encoding='utf-8')\n",
    "# delimiter indicates that the data is separated into columns which is distinguished by commas\n",
    "# genfromtxt is used to read the csv file itself\n",
    "# dtype is used to have numpy automatically detect the data type in the csv file\n",
    "\n",
    "print(padres)"
   ]
  },
  {
   "cell_type": "code",
   "execution_count": 60,
   "metadata": {},
   "outputs": [
    {
     "name": "stdout",
     "output_type": "stream",
     "text": [
      "Name, Position, Average, HR, RBI, OPS, JerseyNumber\n",
      "Manny Machado, Third Base, .298, 32, 102, .897, 13\n",
      "Fernando Tatis Jr, Right Field, .281, 42, 97, .975, 23\n",
      "Juan Soto, Left Field, .242, 27, 62, .853, 22\n",
      "Xanger Bogaerts, Shortstop, .307, 15, 73, .833, 2\n",
      "Nelson Cruz, Designated Hitter, .234, 10, 64, .651, 32\n",
      "Matt Carpenter, Designated Hitter, .305, 15, 37, 1.138, 14\n",
      "Jake Cronenworth, First Base, .239, 17, 88, .722, 9\n",
      "Ha-Seong Kim, Second Base, .251, 11, 59, .708, 7\n",
      "Trent Grisham, Center Field, .184, 17, 53, .626, 1\n",
      "Luis Campusano, Catcher, .250, 1, 5, .593, 12\n",
      "Austin Nola, Catcher, .251, 4, 40, .649, 26\n",
      "Jose Azocar, Outfield, .257, 0, 10, .630, 28\n"
     ]
    }
   ],
   "source": [
    "for i in padres:\n",
    "    print(\",\".join(i))"
   ]
  },
  {
   "cell_type": "code",
   "execution_count": 105,
   "metadata": {},
   "outputs": [
    {
     "name": "stdout",
     "output_type": "stream",
     "text": [
      "---------Average Bottom 5---------\n",
      "Trent Grisham\t CF\t .184\t 17\t 53\t .626\t 1\n",
      "Nelson Cruz\t DH\t .234\t 10\t 64\t .651\t 32\n",
      "Cronezone\t 1B\t .239\t 17\t 88\t .722\t 9\n",
      "Juan Soto\t LF\t .242\t 27\t 62\t .853\t 22\n",
      "Luis Campusano\t C\t .250\t 1\t 5\t .593\t 12\n",
      "---------Average Top 5------\n",
      "Jose Azocar\t OF\t .257\t 0\t 10\t .630\t 28\n",
      "Tatis Jr\t RF\t .281\t 42\t 97\t .975\t 23\n",
      "Manny Machado\t 3B\t .298\t 32\t 102\t .897\t 13\n",
      "Matt Carpenter\t DH\t .305\t 15\t 37\t 1.138\t 14\n",
      "Xanger Bogaerts\t SS\t .307\t 15\t 73\t .833\t 2\n"
     ]
    }
   ],
   "source": [
    "import numpy as np\n",
    "\n",
    "data = np.loadtxt('files/padres.csv', delimiter=',', dtype=str, skiprows=1)\n",
    "\n",
    "sorted_data = data[np.argsort(data[:, 2].astype(float))]\n",
    "\n",
    "print(\"---------Average Bottom 5---------\")\n",
    "for row in sorted_data[:5]:\n",
    "    print(\"\\t\".join(row))\n",
    "\n",
    "print(\"---------Average Top 5------\")\n",
    "for row in sorted_data[-5:]:\n",
    "    print(\"\\t\".join(row))\n"
   ]
  },
  {
   "attachments": {},
   "cell_type": "markdown",
   "metadata": {},
   "source": [
    "Now from learning this, can you find a different way from how we can solve the sum or products of a dataset other than how we learned before?"
   ]
  },
  {
   "cell_type": "code",
   "execution_count": null,
   "metadata": {},
   "outputs": [],
   "source": [
    "# create a different way of solving the sum or products of a dataset from what we learned above"
   ]
  },
  {
   "attachments": {},
   "cell_type": "markdown",
   "metadata": {},
   "source": [
    "## Hack Scoring\n",
    "- 0.3 for solving the lesson problem sets (popcorn hacks)\n",
    "- 0.6 for solving the hacks\n",
    "- 0.1 for going extra (such as showing unique code segments using numpy)"
   ]
  },
  {
   "attachments": {},
   "cell_type": "markdown",
   "metadata": {},
   "source": [
    "## Hacks\n",
    "\n",
    "1. Write a Python function that takes a 2D numpy array as input and returns the indices of the rows that have at least 1 element greater than 10.\n",
    "\n",
    "2. Write a Python function that takes a 2D numpy array as input and returns the indices of the elements that are local maxima (greater than their neighbors in both directions)."
   ]
  },
  {
   "cell_type": "code",
   "execution_count": null,
   "metadata": {},
   "outputs": [],
   "source": [
    "import numpy as np\n",
    "\n",
    "def Greaterthan10(x):\n",
    "    # write code here\n",
    "    return\n",
    "\n",
    "array = np.array([1, 2, 11], [4, 15, 6])\n",
    "Greaterthan10(array)\n"
   ]
  },
  {
   "cell_type": "code",
   "execution_count": null,
   "metadata": {},
   "outputs": [],
   "source": [
    "import numpy as np\n",
    "\n",
    "def LocalMaxima(x):\n",
    "    # write code here\n",
    "    return\n",
    "\n",
    "array = np.array([5, -17, 21], [6, 7, -3])\n",
    "LocalMaxima(array)"
   ]
  }
 ],
 "metadata": {
  "kernelspec": {
   "display_name": "base",
   "language": "python",
   "name": "python3"
  },
  "language_info": {
   "codemirror_mode": {
    "name": "ipython",
    "version": 3
   },
   "file_extension": ".py",
   "mimetype": "text/x-python",
   "name": "python",
   "nbconvert_exporter": "python",
   "pygments_lexer": "ipython3",
   "version": "3.9.12"
  },
  "orig_nbformat": 4
 },
 "nbformat": 4,
 "nbformat_minor": 2
}
