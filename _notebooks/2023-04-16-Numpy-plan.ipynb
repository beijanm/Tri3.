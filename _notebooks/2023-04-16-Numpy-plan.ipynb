{
 "cells": [
  {
   "attachments": {},
   "cell_type": "markdown",
   "metadata": {},
   "source": [
    "# Numpy Lesson Plan and Hacks\n",
    "> The outline for our lesson plan and hacks\n",
    "- toc: true\n",
    "- categories: []\n",
    "- type: ap\n",
    "- week: 29"
   ]
  },
  {
   "attachments": {},
   "cell_type": "markdown",
   "metadata": {},
   "source": [
    "## Lesson Plan\n",
    "\n",
    "- The lesson will cover various topics about Numpy and how to use it to perform mathematical functions and analyze data\n",
    "    - How to \n",
    "    - How to manipulate arrays\n",
    "- There will be multiple \"popcorn\" hacks within the lesson as well"
   ]
  },
  {
   "attachments": {},
   "cell_type": "markdown",
   "metadata": {},
   "source": [
    "# 1. Intro to NumPy and the features it consists\n",
    "\n",
    "Numpy, by definition, is the fundamental package for **scientific computing** in Python which can be used to perform **mathematical operations, providing multidimensional array objects, and makes data analysis much easier**. Numpy is very important and useful when it comes to data analysis, as it can easily use its features to complete and perform any mathematical operation, as well as analyze data files. \n",
    "\n",
    "If you don't already have numpy installed, you can do so using ```conda install numpy``` or ```pip install numpy```\n",
    "\n",
    "Once that is complete, to import numpy in your code, all you must do is:"
   ]
  },
  {
   "cell_type": "code",
   "execution_count": 3,
   "metadata": {},
   "outputs": [],
   "source": [
    "import numpy as np"
   ]
  },
  {
   "attachments": {},
   "cell_type": "markdown",
   "metadata": {},
   "source": [
    "# 2. Using NumPy to create arrays\n",
    "An array is the central **data structure** of the NumPy library. They are used as **containers** which are able to store more than one item at the same time. Using the function ```np.array``` is used to create an array, in which you can create multidimensional arrays. \n",
    "\n",
    "Shown  below is how to create a 1D array:"
   ]
  },
  {
   "cell_type": "code",
   "execution_count": 4,
   "metadata": {},
   "outputs": [
    {
     "name": "stdout",
     "output_type": "stream",
     "text": [
      "[1 2 3]\n"
     ]
    }
   ],
   "source": [
    "a = np.array([1, 2, 3])\n",
    "print(a) \n",
    "# this creates a 1D array"
   ]
  },
  {
   "attachments": {},
   "cell_type": "markdown",
   "metadata": {},
   "source": [
    "How could you create a 3D array based on knowing how to make a 1D array?"
   ]
  },
  {
   "cell_type": "code",
   "execution_count": 5,
   "metadata": {},
   "outputs": [],
   "source": [
    "# create 3D array here"
   ]
  },
  {
   "attachments": {},
   "cell_type": "markdown",
   "metadata": {},
   "source": [
    "Arrays can be printed in different ways, especially a more readable format. As we have seen, arrays are printed in rows and columns, but we can change that by using the ```reshape``` function "
   ]
  },
  {
   "cell_type": "code",
   "execution_count": 6,
   "metadata": {},
   "outputs": [
    {
     "name": "stdout",
     "output_type": "stream",
     "text": [
      "[[1 2 3 4 5 6 7 8 9]]\n"
     ]
    }
   ],
   "source": [
    "c = np.array([[1, 2, 3], [4, 5, 6], [7, 8, 9]])\n",
    "print(c.reshape(1, 9)) # organizes it all in a single line of output"
   ]
  },
  {
   "attachments": {},
   "cell_type": "markdown",
   "metadata": {},
   "source": [
    "In the code segment below, we can also specially select certain rows and columns from the array to further analyze selective data."
   ]
  },
  {
   "cell_type": "code",
   "execution_count": 7,
   "metadata": {},
   "outputs": [
    {
     "name": "stdout",
     "output_type": "stream",
     "text": [
      "[[4 5]\n",
      " [7 8]]\n"
     ]
    }
   ],
   "source": [
    "print(c[1:, :2])\n",
    "# the 1: means \"start at row 1 and select all the remaining rows\"\n",
    "# the :2 means \"select the first two columns\""
   ]
  },
  {
   "attachments": {},
   "cell_type": "markdown",
   "metadata": {},
   "source": [
    "# 3. Basic array operations\n",
    "\n",
    "One of the most basic operations that can be performed on arrays is **arithmetic operations**. With numpy, it is very easy to perform arithmetic operations on arrays. **You can add, subtract, multiply and divide** arrays, just like you would with regular numbers. When performing these operations, numpy applies the operation element-wise, meaning that it performs the operation on each element in the array separately. This makes it easy to perform operations on large amounts of data quickly and efficiently."
   ]
  },
  {
   "cell_type": "code",
   "execution_count": 119,
   "metadata": {},
   "outputs": [
    {
     "name": "stdout",
     "output_type": "stream",
     "text": [
      "[ 2  4  6  8 10 12]\n",
      "[0.5 1.  1.5 2.  2.5 3. ]\n"
     ]
    }
   ],
   "source": [
    "import numpy as np\n",
    "\n",
    "a = np.array([1, 2, 3, 4, 5, 6])\n",
    "a = a * 2\n",
    "z = a/4\n",
    "\n",
    "print(a)\n",
    "print(z)"
   ]
  },
  {
   "cell_type": "code",
   "execution_count": 129,
   "metadata": {},
   "outputs": [
    {
     "name": "stdout",
     "output_type": "stream",
     "text": [
      "[5 7 9]\n",
      "[-3 -3 -3]\n",
      "[ 4 10 18]\n",
      "[0.25 0.4  0.5 ]\n"
     ]
    }
   ],
   "source": [
    "b = np.array([1, 2, 3])\n",
    "c = np.array([4, 5, 6])\n",
    "print(b + c) # adds each value based on the column the integer is in\n",
    "print(b - c) # subtracts each value based on the column the integer is in\n",
    "print(b * c) # multiplies each value based on the column the integer is in\n",
    "print(b / c) # divides each value based on the column the integer is in\n"
   ]
  },
  {
   "cell_type": "code",
   "execution_count": 130,
   "metadata": {},
   "outputs": [
    {
     "name": "stdout",
     "output_type": "stream",
     "text": [
      "[ 2.71828183  7.3890561  20.08553692]\n",
      "[1.         1.41421356 1.73205081]\n"
     ]
    }
   ],
   "source": [
    "d = np.exp(b)\n",
    "e = np.sqrt(b)\n",
    "print(d)\n",
    "print(e)"
   ]
  },
  {
   "attachments": {},
   "cell_type": "markdown",
   "metadata": {},
   "source": [
    "From the knowledge of how to use more advanced mathematical expressions than the basic 4 mathematical operations such as exponent and square root, now can you code how to calculate the 3 main trig expressions (sin, cos, tan), natural log, and log10 of a 1D array."
   ]
  },
  {
   "cell_type": "code",
   "execution_count": null,
   "metadata": {},
   "outputs": [],
   "source": [
    "# calculate sin\n",
    "# calculate cos\n",
    "# calculate tan\n",
    "# calculate natural log\n",
    "# calculate log10"
   ]
  },
  {
   "attachments": {},
   "cell_type": "markdown",
   "metadata": {},
   "source": [
    "# 4. Data analysis using numpy\n",
    "Numpy provides a convenient and powerful way to perform data analysis tasks on **large datasets**. One of the most common tasks in data analysis is finding the **mean, median, and standard deviation** of a dataset. Numpy provides functions to perform these operations quickly and easily. The mean function calculates the average value of the data, while the median function calculates the middle value in the data. The standard deviation function calculates how spread out the data is from the mean. Additionally, numpy provides functions to find the minimum and maximum values in the data. These functions are very useful for gaining insight into the properties of large datasets and can be used for a wide range of data analysis tasks."
   ]
  },
  {
   "cell_type": "code",
   "execution_count": 9,
   "metadata": {},
   "outputs": [
    {
     "name": "stdout",
     "output_type": "stream",
     "text": [
      "10.2\n",
      "12.0\n",
      "6.04648658313239\n",
      "2\n",
      "19\n"
     ]
    }
   ],
   "source": [
    "data = np.array([2, 5, 12, 13, 19])\n",
    "print(np.mean(data)) # finds the mean of the dataset\n",
    "print(np.median(data)) # finds the median of the dataset\n",
    "print(np.std(data)) # finds the standard deviation of the dataset\n",
    "print(np.min(data)) # finds the min of the dataset\n",
    "print(np.max(data)) # finds the max of the dataset"
   ]
  },
  {
   "attachments": {},
   "cell_type": "markdown",
   "metadata": {},
   "source": [
    "Now from learning this, can you find a different way from how we can solve the sum or products of a dataset other than how we learned before?"
   ]
  },
  {
   "cell_type": "code",
   "execution_count": null,
   "metadata": {},
   "outputs": [],
   "source": [
    "# create a different way of solving the sum or products of a dataset from what we learned above"
   ]
  },
  {
   "attachments": {},
   "cell_type": "markdown",
   "metadata": {},
   "source": [
    "Numpy also has the ability to handle CSV files, which are commonly used to store and exchange large datasets. By importing CSV files into numpy arrays, we can easily perform complex operations and analysis on the data, making numpy an essential tool for data scientists and researchers.\n",
    "\n",
    "```genfromtxt``` and ```loadtxt``` are two functions in the numpy library that can be used to read data from text files, including CSV files."
   ]
  },
  {
   "attachments": {},
   "cell_type": "markdown",
   "metadata": {},
   "source": [
    "```genfromtxt``` is a more advanced function that can be used to read text files that have more complex structures, including CSV files. ```genfromtxt``` can handle files that have missing or invalid data, or files that have columns of different data types. It can also be used to skip header lines or to read only specific columns from the file. "
   ]
  },
  {
   "cell_type": "code",
   "execution_count": 108,
   "metadata": {},
   "outputs": [
    {
     "name": "stdout",
     "output_type": "stream",
     "text": [
      "[['Name' ' Position' ' Average' ' HR' ' RBI' ' OPS' ' JerseyNumber']\n",
      " ['Manny Machado' ' 3B' ' .298' ' 32' ' 102' ' .897' ' 13']\n",
      " ['Tatis Jr' ' RF' ' .281' ' 42' ' 97' ' .975' ' 23']\n",
      " ['Juan Soto' ' LF' ' .242' ' 27' ' 62' ' .853' ' 22']\n",
      " ['Xanger Bogaerts' ' SS' ' .307' ' 15' ' 73' ' .833' ' 2']\n",
      " ['Nelson Cruz' ' DH' ' .234' ' 10' ' 64' ' .651' ' 32']\n",
      " ['Matt Carpenter' ' DH' ' .305' ' 15' ' 37' ' 1.138' ' 14']\n",
      " ['Cronezone' ' 1B' ' .239' ' 17' ' 88' ' .722' ' 9']\n",
      " ['Ha-Seong Kim' ' 2B' ' .251' ' 11' ' 59' ' .708' ' 7']\n",
      " ['Trent Grisham' ' CF' ' .184' ' 17' ' 53' ' .626' ' 1']\n",
      " ['Luis Campusano' ' C' ' .250' ' 1' ' 5' ' .593' ' 12']\n",
      " ['Austin Nola' ' C' ' .251' ' 4' ' 40' ' .649' ' 26']\n",
      " ['Jose Azocar' ' OF' ' .257' ' 0' ' 10' ' .630' ' 28']]\n"
     ]
    }
   ],
   "source": [
    "import numpy as np\n",
    "\n",
    "padres = np.genfromtxt('files/padres.csv', delimiter=',', dtype=str, encoding='utf-8')\n",
    "# delimiter indicates that the data is separated into columns which is distinguished by commas\n",
    "# genfromtxt is used to read the csv file itself\n",
    "# dtype is used to have numpy automatically detect the data type in the csv file\n",
    "\n",
    "print(padres)"
   ]
  },
  {
   "attachments": {},
   "cell_type": "markdown",
   "metadata": {},
   "source": [
    "```loadtxt``` is a simpler function that can be used to read simple text files that have a regular structure, such as files that have only one type of data (such as all integers or all floats). ```loadtxt``` can be faster than ```genfromtxt``` because it assumes that the data in the file is well-structured and can be easily parsed."
   ]
  },
  {
   "cell_type": "code",
   "execution_count": 110,
   "metadata": {},
   "outputs": [
    {
     "name": "stdout",
     "output_type": "stream",
     "text": [
      "[['Name' ' Position' ' Average' ' HR' ' RBI' ' OPS' ' JerseyNumber']\n",
      " ['Manny Machado' ' 3B' ' .298' ' 32' ' 102' ' .897' ' 13']\n",
      " ['Tatis Jr' ' RF' ' .281' ' 42' ' 97' ' .975' ' 23']\n",
      " ['Juan Soto' ' LF' ' .242' ' 27' ' 62' ' .853' ' 22']\n",
      " ['Xanger Bogaerts' ' SS' ' .307' ' 15' ' 73' ' .833' ' 2']\n",
      " ['Nelson Cruz' ' DH' ' .234' ' 10' ' 64' ' .651' ' 32']\n",
      " ['Matt Carpenter' ' DH' ' .305' ' 15' ' 37' ' 1.138' ' 14']\n",
      " ['Cronezone' ' 1B' ' .239' ' 17' ' 88' ' .722' ' 9']\n",
      " ['Ha-Seong Kim' ' 2B' ' .251' ' 11' ' 59' ' .708' ' 7']\n",
      " ['Trent Grisham' ' CF' ' .184' ' 17' ' 53' ' .626' ' 1']\n",
      " ['Luis Campusano' ' C' ' .250' ' 1' ' 5' ' .593' ' 12']\n",
      " ['Austin Nola' ' C' ' .251' ' 4' ' 40' ' .649' ' 26']\n",
      " ['Jose Azocar' ' OF' ' .257' ' 0' ' 10' ' .630' ' 28']]\n"
     ]
    }
   ],
   "source": [
    "import numpy as np\n",
    "\n",
    "padres = np.loadtxt('files/padres.csv', delimiter=',', dtype=str, encoding='utf-8')\n",
    "print(padres)"
   ]
  },
  {
   "cell_type": "code",
   "execution_count": 60,
   "metadata": {},
   "outputs": [
    {
     "name": "stdout",
     "output_type": "stream",
     "text": [
      "Name, Position, Average, HR, RBI, OPS, JerseyNumber\n",
      "Manny Machado, Third Base, .298, 32, 102, .897, 13\n",
      "Fernando Tatis Jr, Right Field, .281, 42, 97, .975, 23\n",
      "Juan Soto, Left Field, .242, 27, 62, .853, 22\n",
      "Xanger Bogaerts, Shortstop, .307, 15, 73, .833, 2\n",
      "Nelson Cruz, Designated Hitter, .234, 10, 64, .651, 32\n",
      "Matt Carpenter, Designated Hitter, .305, 15, 37, 1.138, 14\n",
      "Jake Cronenworth, First Base, .239, 17, 88, .722, 9\n",
      "Ha-Seong Kim, Second Base, .251, 11, 59, .708, 7\n",
      "Trent Grisham, Center Field, .184, 17, 53, .626, 1\n",
      "Luis Campusano, Catcher, .250, 1, 5, .593, 12\n",
      "Austin Nola, Catcher, .251, 4, 40, .649, 26\n",
      "Jose Azocar, Outfield, .257, 0, 10, .630, 28\n"
     ]
    }
   ],
   "source": [
    "for i in padres:\n",
    "    print(\",\".join(i))"
   ]
  }
 ],
 "metadata": {
  "kernelspec": {
   "display_name": "base",
   "language": "python",
   "name": "python3"
  },
  "language_info": {
   "codemirror_mode": {
    "name": "ipython",
    "version": 3
   },
   "file_extension": ".py",
   "mimetype": "text/x-python",
   "name": "python",
   "nbconvert_exporter": "python",
   "pygments_lexer": "ipython3",
   "version": "3.9.12"
  },
  "orig_nbformat": 4
 },
 "nbformat": 4,
 "nbformat_minor": 2
}
