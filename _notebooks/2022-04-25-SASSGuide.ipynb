{
 "cells": [
  {
   "attachments": {},
   "cell_type": "markdown",
   "metadata": {},
   "source": [
    "# Guide to SASS \n",
    "> An guide on how to use SASS to build a more customized frontend.\n",
    "- title: Guide to SASS\n",
    "- toc: true\n",
    "- comments: true\n",
    "- badges: false\n",
    "- permalink: /sassguide\n",
    "- author: Aniket Chakradeo, Ryan Hakimipour, Max Tullius, Jaden Nguyen, Nathan Kim, Kalani Cabral-Omana, Evan Appari, Max Wu, \n",
    "- categories: [student]\n",
    "- type: ap\n",
    "- week: 30"
   ]
  },
  {
   "attachments": {},
   "cell_type": "markdown",
   "metadata": {},
   "source": [
    "# Team Lesson Plan\n",
    "\n",
    "Agile Manifesto:\n",
    "COMMUNICATION over COMPLETION: Things can easily be completed without communicating. However, this creates uncoordinated work, can cause individuals to do unecessary work, and can impact the general quality of the work completed. As a team, we will prioritize talking about our goals and the work we mean to complete over completing it as fast as possible without talking about what we all need to do. LEARNING over LABOR: although it is obviously important to complete work, it is more important that we as individuals actually understand the work we are doing and why we are doing it so that we can recreate it in the future. Therefore, our team will spend time making sure that everyone actually understands the processes involved in the creation of our website to increase our capability and expertise. ASKING FOR HELP over DOING IT YOURSELF: Although it is important for team members to be problem solvers and to complete their own work, it is important that members feel as though they are able to ask for help and don't have to struggle alone. This will strengthen team bonds and allow for a more put together website.\n",
    "\n",
    "\n",
    "Table of Contents\n",
    "Project Progress\t1\n",
    "Table of Contents\t1\n",
    "Team Roles\t1\n",
    "Intro: Introduction to roles, manifesto, etc.\t2\n",
    "Part 1: Tutorial Page 1- Aniket and Nathan \t2\n",
    "Part 2: Tutorial Page 2- Evan and Max W \t2\n",
    "Page3: Building JavaScript Game /Application- Ryan and Jaden\t2\n",
    "Page4: Hacks Page - Max T and Kalani\t4\n",
    "Team Roles\n",
    "Product Owner: Aniket\n",
    "\n",
    "Technical Lead: Ryan\n",
    "\n",
    "Scrum Master: Nathan \n",
    "\n",
    "Developers: Jaden, Max W, Max T, Kalani, Evan\n",
    "Intro: Introduction to roles, manifesto, etc.\n",
    "\n",
    "Introduction to the team → start with a group role share out\n",
    "Goal of the project: “to let students develop their coding skills in frontend/UI…help them become more fluent in coding frontend…become experts…”\n",
    "\n",
    "Tutorial Page 1- Nathan, Aniket\n",
    "Understanding the UI properties\n",
    "USING SASS, CSS AND NOT MD\n",
    "Simple coded object (SASS, CSS, SCSS, ect.)\n",
    "Can re-discuss colors and color code which we did at the beginning of the year to customize our own fastpages\n",
    "*themes\n",
    "Tutorial Page 2- Max W, Aniket, Evan \n",
    "More advanced UI properties\n",
    "Light/Night Mode?\n",
    "UX maybe and midnight mode \n",
    "*LAYOUTS\n",
    "Upload full stack and put it into the backend (AT LEAST ONE FULL STACK)\n",
    "Discuss animation and animation code for UI\n",
    "\n",
    "Building JavaScript Game or Application- Nathan, Ryan, Jaden\n",
    "Before vs After Snake Game - how to customize \n",
    "Building a java script game and what it requires\n",
    "Hacks Page - Kalani, Max T\n",
    "\n",
    "Students must create their own hack (simple app,game, etc using key components from the lesson) \n",
    "Make sure the students can wget the file so they can work on it for their hacks\n",
    "Can there be two parts (like one of them is using the customization factor and the other one is using the javascript application)? Or one but we have to be able to grade it\n"
   ]
  }
 ],
 "metadata": {
  "language_info": {
   "name": "python"
  },
  "orig_nbformat": 4
 },
 "nbformat": 4,
 "nbformat_minor": 2
}
