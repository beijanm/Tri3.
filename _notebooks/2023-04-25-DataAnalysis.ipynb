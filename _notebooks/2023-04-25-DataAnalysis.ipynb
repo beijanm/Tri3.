{
 "cells": [
  {
   "attachments": {},
   "cell_type": "markdown",
   "metadata": {},
   "source": [
    "#  Petite Pandas Data Analysis using Pandas and NumPy\n",
    "> A series of lessons based on the utilization of Pandas and NumPy to read and create interesting things with files and data. By Soham K, Tay K, Rohan A, Parav S, Krishiv M, Jonathan W\n"
   ]
  },
  {
   "attachments": {},
   "cell_type": "markdown",
   "metadata": {},
   "source": [
    "# Overview\n",
    "We will be teaching the class about Pandas and NumPy, and how to use them effectively."
   ]
  },
  {
   "attachments": {},
   "cell_type": "markdown",
   "metadata": {},
   "source": [
    "## Subcategories:\n",
    "\n",
    "- How to read a file using Pandas\n",
    "- Implentation of statistics and data analysis using Pandas\n",
    "- Using pandas to change aspects of files\n",
    "- Using numpy to modify, scale, and edit images\n",
    "- Mathematics and complex calculations using numpy"
   ]
  },
  {
   "attachments": {},
   "cell_type": "markdown",
   "metadata": {},
   "source": [
    "# Lesson Plan\n",
    "\n",
    "- We will implementy \"popcorn hacks\" during the lesson. This may consist of editing code or filling in the blanks. \n",
    "- We may ask students to note down what they notice and wonder after running each code cell. They will analyze code cells and jot down their findings in a markdown cell."
   ]
  },
  {
   "attachments": {},
   "cell_type": "markdown",
   "metadata": {},
   "source": [
    "# Popcorn Hacks\n",
    "- Complete Panda fill in the blanks\n",
    "- Complete Panda code segment task\n",
    "- Complete Numpy fill in the blanks\n",
    "- Complete Numpy code segment task\n",
    "\n",
    "# Main Hack\n",
    "- Make a data file - content is up to you, just make sure there are integer values - and print\n",
    "- Run Panda and Numpy commands\n",
    "    - Panda:\n",
    "        - Find Min and Max values\n",
    "        - Sort in order - can be order of least to greatest or vice versa\n",
    "        - Create a smaller dataframe and merge it with your data file\n",
    "    - Numpy:\n",
    "        -  Random number generation\n",
    "        - create a multi-dimensional array (multiple elements)\n",
    "        - create an array with linearly spaced intervals between values\n"
   ]
  },
  {
   "attachments": {},
   "cell_type": "markdown",
   "metadata": {},
   "source": [
    "# Grading\n",
    "The grading will be binary - all or nothing; no partial credit\n",
    "- 0.3 for all the popcorn hacks\n",
    "- 0.6 for the main hack - CSV file\n",
    "- 0.1 for going above and beyond in the main hack\n",
    "    - For example, sorting the file with string values, instead of integer values"
   ]
  }
 ],
 "metadata": {
  "kernelspec": {
   "display_name": "base",
   "language": "python",
   "name": "python3"
  },
  "language_info": {
   "name": "python",
   "version": "3.9.12"
  },
  "orig_nbformat": 4
 },
 "nbformat": 4,
 "nbformat_minor": 2
}
