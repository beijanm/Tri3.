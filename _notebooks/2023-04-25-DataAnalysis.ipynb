{
 "cells": [
  {
   "attachments": {},
   "cell_type": "markdown",
   "metadata": {},
   "source": [
    "#  Petite Pandas Data Analysis using Pandas and NumPy\n",
    "> A series of lessons based on the utilization of Pandas and NumPy to read and create interesting things with files and data. By Soham K, Tay K, Rohan A, Parav S, Krishiv M, Jonathan W\n"
   ]
  },
  {
   "attachments": {},
   "cell_type": "markdown",
   "metadata": {},
   "source": [
    "# Hacks\n",
    "\n",
    "## Popcorn Hacks\n",
    "- Complete Panda fill in the blanks\n",
    "- Complete Panda code segment task\n",
    "- Complete Numpy fill in the blanks\n",
    "- Complete Numpy code segment task\n",
    "\n",
    "## Main Hack\n",
    "- Make a data file - content is up to you, just make sure there are integer values - and print\n",
    "- Run Panda and Numpy commands\n",
    "    - Panda:\n",
    "        - Find Min and Max values\n",
    "        - Sort in order - can be order of least to greatest or vice versa\n",
    "        - Create a smaller dataframe and merge it with your data file\n",
    "    - Numpy:\n",
    "        - Print the file in a readable format using Numpy\n",
    "        - Sort the file using Numpy"
   ]
  }
 ],
 "metadata": {
  "kernelspec": {
   "display_name": "base",
   "language": "python",
   "name": "python3"
  },
  "language_info": {
   "name": "python",
   "version": "3.9.12"
  },
  "orig_nbformat": 4
 },
 "nbformat": 4,
 "nbformat_minor": 2
}
