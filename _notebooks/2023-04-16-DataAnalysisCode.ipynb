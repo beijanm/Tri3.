{
 "cells": [
  {
   "attachments": {},
   "cell_type": "markdown",
   "metadata": {},
   "source": [
    "#  Petite Pandas: Data Analysis using Pandas\n",
    "> Code for a series of lessons based on the utilization of Pandas to read and create interesting things with files and data. "
   ]
  },
  {
   "cell_type": "code",
   "execution_count": 11,
   "metadata": {},
   "outputs": [
    {
     "name": "stdout",
     "output_type": "stream",
     "text": [
      "    Item ID  Item Name  Price\n",
      "0   1221362     burger   3.49\n",
      "1   2214251      fries   1.49\n",
      "2   5214214      drink   1.49\n",
      "3   4124211      chips   0.99\n",
      "4   3214124    whopper   5.49\n",
      "5   3124124  hamburger   1.99\n",
      "6   1214124      pepsi   1.49\n",
      "7   1124124       cola   1.49\n",
      "8   2124124      fanta   1.49\n",
      "9   4124126     sprite   1.49\n",
      "10  4512423  dr pepper   1.49\n"
     ]
    }
   ],
   "source": [
    "import pandas as pd\n",
    "# reads the JSON file and converts it to a Pandas DataFrame\n",
    "df = pd.read_json('files/menu.json')\n",
    "\n",
    "print(df)"
   ]
  },
  {
   "cell_type": "code",
   "execution_count": 12,
   "metadata": {},
   "outputs": [
    {
     "name": "stdout",
     "output_type": "stream",
     "text": [
      "    Item ID\n",
      "0   1221362\n",
      "1   2214251\n",
      "2   5214214\n",
      "3   4124211\n",
      "4   3214124\n",
      "5   3124124\n",
      "6   1214124\n",
      "7   1124124\n",
      "8   2124124\n",
      "9   4124126\n",
      "10  4512423\n",
      "\n",
      " Price  Item ID\n",
      "  3.49  1221362\n",
      "  1.49  2214251\n",
      "  1.49  5214214\n",
      "  0.99  4124211\n",
      "  5.49  3214124\n",
      "  1.99  3124124\n",
      "  1.49  1214124\n",
      "  1.49  1124124\n",
      "  1.49  2124124\n",
      "  1.49  4124126\n",
      "  1.49  4512423\n"
     ]
    }
   ],
   "source": [
    "#print the values in the points column with column header\n",
    "print(df[['Item ID']])\n",
    "\n",
    "print()\n",
    "\n",
    "#try two columns and remove the index from print statement\n",
    "print(df[['Price','Item ID']].to_string(index=False))"
   ]
  },
  {
   "cell_type": "code",
   "execution_count": 13,
   "metadata": {},
   "outputs": [
    {
     "name": "stdout",
     "output_type": "stream",
     "text": [
      "    Item ID  Item Name  Price\n",
      "7   1124124       cola   1.49\n",
      "6   1214124      pepsi   1.49\n",
      "0   1221362     burger   3.49\n",
      "8   2124124      fanta   1.49\n",
      "1   2214251      fries   1.49\n",
      "5   3124124  hamburger   1.99\n",
      "4   3214124    whopper   5.49\n",
      "9   4124126     sprite   1.49\n",
      "3   4124211      chips   0.99\n",
      "10  4512423  dr pepper   1.49\n",
      "2   5214214      drink   1.49\n",
      "\n",
      "    Item ID  Item Name  Price\n",
      "2   5214214      drink   1.49\n",
      "10  4512423  dr pepper   1.49\n",
      "3   4124211      chips   0.99\n",
      "9   4124126     sprite   1.49\n",
      "4   3214124    whopper   5.49\n",
      "5   3124124  hamburger   1.99\n",
      "1   2214251      fries   1.49\n",
      "8   2124124      fanta   1.49\n",
      "0   1221362     burger   3.49\n",
      "6   1214124      pepsi   1.49\n",
      "7   1124124       cola   1.49\n"
     ]
    }
   ],
   "source": [
    "#sort values\n",
    "print(df.sort_values(by=['Item ID']))\n",
    "\n",
    "print()\n",
    "\n",
    "#sort the values in reverse order\n",
    "print(df.sort_values(by=['Item ID'], ascending=False))"
   ]
  },
  {
   "cell_type": "code",
   "execution_count": 15,
   "metadata": {},
   "outputs": [
    {
     "name": "stdout",
     "output_type": "stream",
     "text": [
      "   Item ID  Item Name  Price\n",
      "0  1221362     burger   3.49\n",
      "4  3214124    whopper   5.49\n",
      "5  3124124  hamburger   1.99\n"
     ]
    }
   ],
   "source": [
    "#print only values with a specific criteria \n",
    "print(df[df.Price > 1.49])"
   ]
  },
  {
   "cell_type": "code",
   "execution_count": 18,
   "metadata": {},
   "outputs": [
    {
     "name": "stdout",
     "output_type": "stream",
     "text": [
      "   Item ID Item Name  Price\n",
      "4  3214124   whopper   5.49\n",
      "\n",
      "   Item ID Item Name  Price\n",
      "3  4124211     chips   0.99\n"
     ]
    }
   ],
   "source": [
    "print(df[df.Price == df.Price.max()])\n",
    "print()\n",
    "print(df[df.Price == df.Price.min()])"
   ]
  }
 ],
 "metadata": {
  "kernelspec": {
   "display_name": "base",
   "language": "python",
   "name": "python3"
  },
  "language_info": {
   "codemirror_mode": {
    "name": "ipython",
    "version": 3
   },
   "file_extension": ".py",
   "mimetype": "text/x-python",
   "name": "python",
   "nbconvert_exporter": "python",
   "pygments_lexer": "ipython3",
   "version": "3.9.12"
  },
  "orig_nbformat": 4
 },
 "nbformat": 4,
 "nbformat_minor": 2
}
