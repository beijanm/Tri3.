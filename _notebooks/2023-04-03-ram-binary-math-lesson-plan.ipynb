 # Binary Math Lesson Plan
> Applying binary math and operationsto real-world progamming
- toc: true
- categories: [student]
- badges: false
- comments: true
- author: Shreya Sapkal, Noor Grewal, Keira Okimoto, Alyssa Ringler, Sabine Sommers, Devon Shepherd
- type: ap
- week: 30

## Vocab and Notes:
- Logic gates (AND, OR, NOR, NAND)
- Binary conversion
- Bitwise operations
- Binary search
- Huffman coding

## In-class practice hacks (2-3)
- Logic gate program
- String to binary conversion program

## Homework hacks (1-2)
- Binary calculator conversion
- Huffman coding program

