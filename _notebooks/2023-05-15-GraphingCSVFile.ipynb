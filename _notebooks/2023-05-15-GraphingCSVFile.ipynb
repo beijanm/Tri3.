{
 "cells": [
  {
   "attachments": {},
   "cell_type": "markdown",
   "metadata": {},
   "source": [
    "# Graphing CSV File\n",
    "> Graphing CSV File\n",
    "- toc: true\n",
    "- categories: []\n",
    "- type: ap\n",
    "- week: 29"
   ]
  },
  {
   "cell_type": "code",
   "execution_count": null,
   "metadata": {
    "vscode": {
     "languageId": "plaintext"
    }
   },
   "outputs": [],
   "source": []
  }
 ],
 "metadata": {
  "language_info": {
   "name": "python"
  },
  "orig_nbformat": 4
 },
 "nbformat": 4,
 "nbformat_minor": 2
}
