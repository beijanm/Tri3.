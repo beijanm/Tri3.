{
 "cells": [
  {
   "attachments": {},
   "cell_type": "markdown",
   "metadata": {},
   "source": [
    "# NumPy Tangible Artifact\n",
    "- toc: true\n",
    "- categories: []\n",
    "- type: ap\n",
    "- week: 29"
   ]
  },
  {
   "attachments": {},
   "cell_type": "markdown",
   "metadata": {},
   "source": [
    "### This can help implement NumPy to help graph equations and compare multiple equations on a x-y graph"
   ]
  },
  {
   "cell_type": "code",
   "execution_count": 2,
   "metadata": {},
   "outputs": [
    {
     "name": "stdout",
     "output_type": "stream",
     "text": [
      "[[-0.29505042 -0.4744728  -0.6687247  ... -1.00941836 -1.20367026\n",
      "  -1.38309264]\n",
      " [-0.38714362 -0.566566   -0.7608179  ... -1.10151157 -1.29576347\n",
      "  -1.47518585]\n",
      " [-0.44136306 -0.62078543 -0.81503733 ... -1.155731   -1.3499829\n",
      "  -1.52940528]\n",
      " ...\n",
      " [-0.44136306 -0.62078543 -0.81503733 ... -1.155731   -1.3499829\n",
      "  -1.52940528]\n",
      " [-0.38714362 -0.566566   -0.7608179  ... -1.10151157 -1.29576347\n",
      "  -1.47518585]\n",
      " [-0.29505042 -0.4744728  -0.6687247  ... -1.00941836 -1.20367026\n",
      "  -1.38309264]]\n"
     ]
    }
   ],
   "source": [
    "import numpy as np\n",
    "\n",
    "def f(x, y):\n",
    "    return np.sin(x) + np.cos(y)\n",
    "\n",
    "x = np.linspace(-10, 10, 100)\n",
    "y = np.linspace(-10, 10, 100)\n",
    "X, Y = np.meshgrid(x, y)\n",
    "Z = f(X, Y)\n",
    "print(Z)"
   ]
  }
 ],
 "metadata": {
  "kernelspec": {
   "display_name": "base",
   "language": "python",
   "name": "python3"
  },
  "language_info": {
   "codemirror_mode": {
    "name": "ipython",
    "version": 3
   },
   "file_extension": ".py",
   "mimetype": "text/x-python",
   "name": "python",
   "nbconvert_exporter": "python",
   "pygments_lexer": "ipython3",
   "version": "3.9.12"
  },
  "orig_nbformat": 4
 },
 "nbformat": 4,
 "nbformat_minor": 2
}
