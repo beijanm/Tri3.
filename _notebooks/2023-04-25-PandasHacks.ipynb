{
 "cells": [
  {
   "attachments": {},
   "cell_type": "markdown",
   "metadata": {},
   "source": [
    "# Pandas Lesson Plan and Hacks\n",
    "> The outline for our lesson plan and hacks\n",
    "- toc: true\n",
    "- categories: []\n",
    "- type: ap\n",
    "- week: 29"
   ]
  },
  {
   "attachments": {},
   "cell_type": "markdown",
   "metadata": {},
   "source": [
    "# Predictive Analysis\n",
    "Predictive analysis is the use of **statistical**, data mining, and machine learning techniques to analyze current and historical data in order to make predictions about future events or behaviors. It involves identifying **patterns** and trends in data, and then using that information to forecast what is likely to happen in the future.\n",
    "\n",
    "Predictive analysis is used in a wide range of applications, from forecasting sales and demand, to predicting customer behavior, to detecting fraudulent transactions. It involves collecting and analyzing data from a variety of sources, including historical data, customer data, financial data, and social media data, among others.\n",
    "\n",
    "The process of predictive analysis typically involves the following steps:\n",
    "1. Defining the problem and identifying the relevant data sources\n",
    "2. **Collecting and cleaning the data**\n",
    "3. Exploring and analyzing the data to identify patterns and trends\n",
    "4. Selecting an appropriate model or algorithm to use for predictions\n",
    "5. Training and validating the model using historical data\n",
    "6. **Using the model to make predictions on new data**\n",
    "7. Monitoring and evaluating the performance of the model over time\n",
    "\n",
    "Predictive analysis can help organizations make more informed decisions, improve efficiency, and gain a competitive advantage by leveraging insights from data.\n",
    "\n",
    "It is most commonly used in **Retail**, where workers try to predict which products would be most popular and try to advertise those products as much as possible, and also **Healthcare**, where algorithms analyze patterns and reveal prerequisites for diseases and suggest preventive treatment, predict the results of various treatments and choose the best option for each patient individually, and predict disease outbreaks and epidemics."
   ]
  },
  {
   "attachments": {},
   "cell_type": "markdown",
   "metadata": {},
   "source": [
    "# Pandas\n",
    "## What is Pandas\n",
    "Pandas is a Python library used for working with data sets.\n",
    "\n",
    "It has functions for analyzing, cleaning, exploring, and manipulating data.\n",
    "\n",
    "## Why Use Pandas?\n",
    "Pandas allows us to analyze big data and make conclusions based on statistical theories.\n",
    "\n",
    "Pandas can clean messy data sets, and make them readable and relevant.\n",
    "\n",
    "## What Can Pandas Do?\n",
    "Pandas gives you answers about the data. Like:\n",
    "- Is there a correlation between two or more columns?\n",
    "- What is average value?\n",
    "- Max value?\n",
    "- Min value?\n",
    "\n",
    "Pandas are also able to delete rows that are not relevant, or contains wrong values, like empty or NULL values. This is called cleaning the data."
   ]
  },
  {
   "cell_type": "code",
   "execution_count": 6,
   "metadata": {},
   "outputs": [
    {
     "name": "stdout",
     "output_type": "stream",
     "text": [
      "    cars  passings\n",
      "0    BMW         3\n",
      "1  Volvo         7\n",
      "2   Ford         2\n"
     ]
    }
   ],
   "source": [
    "import pandas as pd\n",
    "\n",
    "mydataset = {\n",
    "  'cars': [\"BMW\", \"Volvo\", \"Ford\"],\n",
    "  'passings': [3, 7, 2]\n",
    "}\n",
    "\n",
    "myvar = pd.DataFrame(mydataset)\n",
    "\n",
    "print(myvar)\n"
   ]
  },
  {
   "cell_type": "markdown",
   "metadata": {},
   "source": []
  },
  {
   "cell_type": "code",
   "execution_count": null,
   "metadata": {},
   "outputs": [],
   "source": [
    "#print the values in the points column with column header\n",
    "print(df[['Item ID']])\n",
    "\n",
    "print()\n",
    "\n",
    "#try two columns and remove the index from print statement\n",
    "print(df[['Price','Item ID']].to_string(index=False))"
   ]
  },
  {
   "cell_type": "markdown",
   "metadata": {},
   "source": []
  },
  {
   "cell_type": "code",
   "execution_count": null,
   "metadata": {},
   "outputs": [],
   "source": [
    "#sort values\n",
    "print(df.sort_values(by=['Item ID']))\n",
    "\n",
    "print()\n",
    "\n",
    "#sort the values in reverse order\n",
    "print(df.sort_values(by=['Item ID'], ascending=False))"
   ]
  },
  {
   "cell_type": "code",
   "execution_count": null,
   "metadata": {},
   "outputs": [],
   "source": [
    "#print only values with a specific criteria \n",
    "print(df[df.Price > 1.49])"
   ]
  },
  {
   "cell_type": "code",
   "execution_count": null,
   "metadata": {},
   "outputs": [],
   "source": [
    "print(df[df.Price == df.Price.max()])\n",
    "print()\n",
    "print(df[df.Price == df.Price.min()])"
   ]
  },
  {
   "attachments": {},
   "cell_type": "markdown",
   "metadata": {},
   "source": [
    "# Hacks\n",
    "> Answer the questions below and write code for the last question. Some questions may require individual research.\n",
    "\n",
    "- What are the key data structures used in Pandas?\n",
    "    - ?\n",
    "- How can you merge, join, and concatenate data frames in Pandas?\n",
    "    - ?\n",
    "- How can you optimize the performance of Pandas operations on large datasets?\n",
    "    - ?\n",
    "- Find a certain scenario, topic, or trend which has quantitative data. Store the data in a file and read it in Pandas. Show some analysis of the data."
   ]
  },
  {
   "cell_type": "code",
   "execution_count": 5,
   "metadata": {},
   "outputs": [
    {
     "name": "stdout",
     "output_type": "stream",
     "text": [
      "--Duration Top 10---------\n",
      "               Name          Position  Average  HR  RBI    OPS  JerseyNumber\n",
      "4        NelsonCruz  DesignatedHitter    0.234  10   64  0.651            32\n",
      "11       JoseAzocar          Outfield    0.257   0   10  0.630            28\n",
      "10       AustinNola           Catcher    0.251   4   40  0.649            26\n",
      "1   FernandoTatisJr        RightField    0.281  42   97  0.975            23\n",
      "2          JuanSoto         LeftField    0.242  27   62  0.853            22\n",
      "5     MattCarpenter  DesignatedHitter    0.305  15   37  1.138            14\n",
      "0      MannyMachado         ThirdBase    0.298  32  102  0.897            13\n",
      "9     LuisCampusano           Catcher    0.250   1    5  0.593            12\n",
      "6   JakeCronenworth         FirstBase    0.239  17   88  0.722             9\n",
      "7       Ha-SeongKim        SecondBase    0.251  11   59  0.708             7\n",
      "--Duration Bottom 10------\n",
      "               Name          Position  Average  HR  RBI    OPS  JerseyNumber\n",
      "10       AustinNola           Catcher    0.251   4   40  0.649            26\n",
      "1   FernandoTatisJr        RightField    0.281  42   97  0.975            23\n",
      "2          JuanSoto         LeftField    0.242  27   62  0.853            22\n",
      "5     MattCarpenter  DesignatedHitter    0.305  15   37  1.138            14\n",
      "0      MannyMachado         ThirdBase    0.298  32  102  0.897            13\n",
      "9     LuisCampusano           Catcher    0.250   1    5  0.593            12\n",
      "6   JakeCronenworth         FirstBase    0.239  17   88  0.722             9\n",
      "7       Ha-SeongKim        SecondBase    0.251  11   59  0.708             7\n",
      "3    XangerBogaerts         Shortstop    0.307  15   73  0.833             2\n",
      "8      TrentGrisham       CenterField    0.184  17   53  0.626             1\n",
      "Name, Position, Average, HR, RBI, OPS, JerseyNumber\n"
     ]
    }
   ],
   "source": [
    "import pandas as pd\n",
    "\n",
    "#read csv and sort 'Duration' largest to smallest\n",
    "df = pd.read_csv('files/padres.csv').sort_values(by=['JerseyNumber'], ascending=False)\n",
    "\n",
    "print(\"--Duration Top 10---------\")\n",
    "print(df.head(10))\n",
    "\n",
    "print(\"--Duration Bottom 10------\")\n",
    "print(df.tail(10))\n",
    "print(', '.join(df.tail(10)))"
   ]
  }
 ],
 "metadata": {
  "kernelspec": {
   "display_name": "base",
   "language": "python",
   "name": "python3"
  },
  "language_info": {
   "codemirror_mode": {
    "name": "ipython",
    "version": 3
   },
   "file_extension": ".py",
   "mimetype": "text/x-python",
   "name": "python",
   "nbconvert_exporter": "python",
   "pygments_lexer": "ipython3",
   "version": "3.9.12"
  },
  "orig_nbformat": 4
 },
 "nbformat": 4,
 "nbformat_minor": 2
}
